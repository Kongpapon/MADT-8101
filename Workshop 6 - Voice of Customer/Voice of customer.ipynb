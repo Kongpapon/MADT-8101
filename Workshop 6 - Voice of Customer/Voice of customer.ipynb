{
 "cells": [
  {
   "cell_type": "code",
   "execution_count": 2,
   "metadata": {},
   "outputs": [],
   "source": [
    "import pythainlp\n",
    "import gensim\n",
    "\n",
    "import numpy as np\n",
    "import pandas as pd\n",
    "import re\n",
    "import tensorflow as tf\n",
    "import tensorflow_hub as hub\n",
    "import tensorflow_text\n",
    "import umap.umap_ as umap\n",
    "from sklearn.cluster import KMeans\n",
    "import matplotlib.pyplot as plt\n",
    "from sklearn.cluster import AgglomerativeClustering\n",
    "from sklearn.neighbors import kneighbors_graph\n",
    "from pythainlp.corpus.common import thai_words\n",
    "from pythainlp.util import Trie\n",
    "import collections\n",
    "import deepcut\n",
    "\n",
    "import pyLDAvis.gensim\n",
    "pyLDAvis.enable_notebook()\n",
    "\n",
    "import warnings\n",
    "warnings.filterwarnings(\"ignore\", category=DeprecationWarning)"
   ]
  },
  {
   "cell_type": "code",
   "execution_count": 3,
   "metadata": {},
   "outputs": [
    {
     "data": {
      "text/html": [
       "<div>\n",
       "<style scoped>\n",
       "    .dataframe tbody tr th:only-of-type {\n",
       "        vertical-align: middle;\n",
       "    }\n",
       "\n",
       "    .dataframe tbody tr th {\n",
       "        vertical-align: top;\n",
       "    }\n",
       "\n",
       "    .dataframe thead th {\n",
       "        text-align: right;\n",
       "    }\n",
       "</style>\n",
       "<table border=\"1\" class=\"dataframe\">\n",
       "  <thead>\n",
       "    <tr style=\"text-align: right;\">\n",
       "      <th></th>\n",
       "      <th>comment</th>\n",
       "    </tr>\n",
       "  </thead>\n",
       "  <tbody>\n",
       "    <tr>\n",
       "      <th>3</th>\n",
       "      <td>มื้อกลางวันแบบครอบครัวรับตรุษจีน หรือเพื่อนฝูง...</td>\n",
       "    </tr>\n",
       "    <tr>\n",
       "      <th>4</th>\n",
       "      <td>ร้าน Jumbo Seafood มาออกบูทที่พารากอนบริเวณหน้...</td>\n",
       "    </tr>\n",
       "    <tr>\n",
       "      <th>5</th>\n",
       "      <td>ร้านอาหารเจ้าดังจากสิงคโปร์มาเปิดที่ไทยนานมากแ...</td>\n",
       "    </tr>\n",
       "    <tr>\n",
       "      <th>6</th>\n",
       "      <td>สิงคโปร์มั้ยละ!! มื้อนี้กับมิตรสหาย หลังจากวนๆ...</td>\n",
       "    </tr>\n",
       "    <tr>\n",
       "      <th>7</th>\n",
       "      <td>อาหารซีฟู๊ดชื่อดังจากสิงคโปร์ มาเปิดสาขาที่สยา...</td>\n",
       "    </tr>\n",
       "  </tbody>\n",
       "</table>\n",
       "</div>"
      ],
      "text/plain": [
       "                                             comment\n",
       "3  มื้อกลางวันแบบครอบครัวรับตรุษจีน หรือเพื่อนฝูง...\n",
       "4  ร้าน Jumbo Seafood มาออกบูทที่พารากอนบริเวณหน้...\n",
       "5  ร้านอาหารเจ้าดังจากสิงคโปร์มาเปิดที่ไทยนานมากแ...\n",
       "6  สิงคโปร์มั้ยละ!! มื้อนี้กับมิตรสหาย หลังจากวนๆ...\n",
       "7  อาหารซีฟู๊ดชื่อดังจากสิงคโปร์ มาเปิดสาขาที่สยา..."
      ]
     },
     "execution_count": 3,
     "metadata": {},
     "output_type": "execute_result"
    }
   ],
   "source": [
    "# Sample documents\n",
    "documents = {'comment':\n",
    "        ['ซีฟู้ดร้านนี้ถือว่าสดมากมาแบบชิ้นโตๆ เต็มปากเต็มคำ สดใหญ่สะใจ แต่ราคาก็คือโหดร้ายเหลือเกิน บรรยากาศและอาหารที่ได้ ส่วนรสชาติสำหรับเราถือว่าดีงามเลย ปูสดหวานอร่อย ล็อบสเตอร์คือดีสดเนื้อฉ่ำ ซี่โครงหมูก็อร่อย รสชาติอาหารที่นี่ถือว่าปรุงมาได้ดีเลยทีเดียว แต่เอาจริงๆราคาระดับนี้ไปกินร้านอื่นที่คุณภาพใกล้ใกล้กันแต่ราคาย่อมเยาว์กว่าก็มีเยอะอยู่นะเท่าที่เคยกินมา', 'ตั้งแต่ได้กินกุ้งทอดซีเรียลตอนไปเที่ยวสิงคโปร์ก็คือติดใจมาก ตามหามานาน ในไทยหากินไม่ได้เลย ได้กินอีกทีคือฟินสุดๆเมนูซี่โครงหมูอบซอสมอคค่ารสชาติดีมาก มันทั้งหวานเค็มกลมกล่อม รสชาติจัดได้ใจ กินกับข้าวคืออร่อยไม่ไหว', 'มาอีกครั้งเพราะมีเมนูใหม่ Hotpot ชุดนี้ 2999++ ซีฟู้ดสด ปลาเก๋าและหอยเชลคือดีมาก น้ำซุปก็มีให้เลือก น้ำจิ้มซีฟู้ดโอเคนะ แต่กินกับน้ำซุปที่เป็นสูตรเด็ดปูผัดร้านไม่เข้ากัน ติ่มซำก็อราอยมาตรฐาน Jumbo แต่ลิ้นจี่โซดาคือหวานมาก แต่ความสดของอาหารทะเลที่นี่คือดี', 'มื้อกลางวันแบบครอบครัวรับตรุษจีน หรือเพื่อนฝูงการสังสรรค์ ญาติมิตรในเทศกาล กับร้านกว้างขวาง หรือห้องส่วนตัว 6 ท่าน (ต้องทาน 10,000 บาทขึ้นไป) มีพนักงานคอยดูแลกันอย่างดี ร้านอยู่ชั้น G ด้านหลังใกล้ทางออกโรงแรม SIAM KEMPINSKI HOTEL BANGKOK. เมนูแนะนำสั่งได้ตามด้านหน้าเลย ปูผัดผงกะหรี่ พร้อมสั่ง ซาลาเปาทอด คิดราคาเป็นลูก ก๋วยเตี๋ยวผัดซีฟู้ด ปอเปี้ยะซีฟู้ด กุ้ง lobster ในน้ำซุป เนื้อผัดพริกไทยดำ Pudding มะม่วง อร่อยอาหารสด และอาหารรอไม่นานมาก บริการดี', 'ร้าน Jumbo Seafood มาออกบูทที่พารากอนบริเวณหน้า gourmet market โดนจะเน้นขายเมนูติ่มซำพรีเมียมซึ่งมีเมนูให้เลือกไม่เยอะมาก เป็นเมนูพื้นฐานอย่างพวกขนมจีบ ฮะเก๋า ซาลาเปา ราคาก็จะแรงหน่อยแต่ชิ้นใหญ่และใช้วัตถุดิบดี โดยราคาที่เห็นเป็นราคาต่อชิ้น โชคดีวันที่ไปมีส่วนลด 25% พอดีด้วยค่ะ เมนูที่ซื้อ ขนมจีบจัมโบ้ เป็นขนมจีบหมูผสมกุ้ง แต่หมูไม่เยอะมาก แป้งบางไส้แน่น ท้อปด้วยไข่กุ้งเพิ่มความน่าทาน ฮะเก๋ากุ้ง แป้งจะหนากว่าขนมจีบไส้กุ้งสับล้วน ท้อปด้วยไข่กุ้งสีดำและแผ่นทองเพิ่มความหรูหรา ปอเปี๊ยะทอดไส้กุ้งและเห็ดทรัฟเฟิล เป็นปอเปี๊ยะที่ใช้เส้นหมี่หรือเส้นอะไรซักอย่างมาม้วนแล้วทอด คิดว่าทานเลยน่าจะดีสุดเพราะเอากลับมาบ้านถึงจะอบเตาติ๊งก็ยังไม่ฟูกรอบแบะค่อนข้างอมน้ำมัน แต่ไส้ดีกุ้งเป็นชิ้นใหญ่พร้อมความหอมจากทรัฟเฟิลเข้ากันดี', 'ร้านอาหารเจ้าดังจากสิงคโปร์มาเปิดที่ไทยนานมากแล้ว แต่เรายังไม่เคยไปทาน รอบนี้มีโอกาสได้ลองซะที สั่งปูมาหลายจานเลย ใหญ่ สด แต่แอบแกะยากหน่อย เพราะกระดองค่อนข้างแข็ง แต่เค้าก็ทุบมาให้บ้างแล้วนะ เมนูลอบสเตอร์ และปลาก็สดมากเหมือนกัน เมนูของทอดที่เราชอบ กุ้งทอดไข่เค็ม ดีงามมากจ้า ปลานึ่งต่างๆก็ดีมากๆเลย แนะนำ เหมาะกับพาพ่อแม่ไปทาน', 'สิงคโปร์มั้ยละ!! มื้อนี้กับมิตรสหาย หลังจากวนๆ คิดอยู่นาน ว่าจะจีน ญี่ปุ่น ไทย อิตาลี หรือสัญชาติไหนดี สรุปจบที่สิงคโปร์มั้ยละ จัมโบ้ซีฟู้ด สยามพารากอน ร้านนี้อยู่ที่ชั้น G นะคะ ที่นั่งสะดวกสบาย ร้านสะอาดสะอ้าน พนักงานบริการดี เราสั่งเซ็ท 4,999 บาท (ไม่รวม vat และ service นะคะ) ทานกัน 4 คน แทบคลานเลยค่ะ อิ่มมาก รสชาติดีมาก ราคาแรงหน่อย แต่คุ้มค่ะ', 'อาหารซีฟู๊ดชื่อดังจากสิงคโปร์ มาเปิดสาขาที่สยามพารากอน เมนูที่สั่งกลับบ้านจะมี ปูจัมโบ้ผัดซอสพริก ซี่โครงหมูอบซอสมอคค่า กุ้งผัดพริกไทยและเกลือ ข้าวผัดทะเล วัตถุดิบคือดีมาก ปูตัวใหญ่มาก เมนูที่ชอบสุดคงเป็นปูจัมโบ้ปัดซอสพริก ชอบรสชาติของน้ำที่ราดปูเข้มข้นกลมกล่อมไม่เลี่ยน ส่วนเนื้อปูคือแน่นมาก ส่วนซี่โครงหมูอบซอสมอคค่าคือรสชาติแปลก ออกหวานแต่มีกลิ่นกาแฟ แต่ก็ถือว่ารสชาติดี รวมๆคือดีทุกเมนู']}\n",
    "\n",
    "# doc to pandas df\n",
    "df = pd.DataFrame(documents)\n",
    "df.tail()\n"
   ]
  },
  {
   "cell_type": "code",
   "execution_count": 23,
   "metadata": {},
   "outputs": [],
   "source": [
    "custom_combinations = [('ซี', 'ฟู๊ด'), ('ซี', 'ฟู้ด'), ('กลาง', 'วัน')]  # Add your custom word combinations here\n",
    "\n",
    "stop_word = list(pythainlp.corpus.thai_stopwords())\n",
    "rm_word = ['',' ','    ','\\n', '(', ')', 'ร้าน']\n",
    "\n",
    "screenword = stop_word + rm_word\n",
    "\n",
    "def combine_words(words):\n",
    "    combined = []\n",
    "    i = 0\n",
    "    while i < len(words):\n",
    "        combined_word = words[i]\n",
    "        for combination in custom_combinations:\n",
    "            if i < len(words) - 1 and (words[i], words[i + 1]) == combination:\n",
    "                combined_word = ''.join(combination)\n",
    "                i += 1\n",
    "                break\n",
    "        combined.append(combined_word)\n",
    "        i += 1\n",
    "    return combined\n",
    "\n",
    "def tokenize_n_space(sentence):\n",
    "    merged = ''\n",
    "    words = pythainlp.word_tokenize(str(sentence), engine='deepcut')\n",
    "    words = combine_words(words)\n",
    "    for i in words:\n",
    "        if i not in screenword:\n",
    "            merged = merged + ',' + i\n",
    "    return merged[1:]\n",
    "\n",
    "# Example usage\n",
    "# sentence = \"ซีฟู๊ด อร่อยมาก\"\n",
    "# tokenized_result = tokenize_n_space(sentence)\n",
    "# print(tokenized_result)"
   ]
  },
  {
   "cell_type": "code",
   "execution_count": 24,
   "metadata": {},
   "outputs": [
    {
     "name": "stdout",
     "output_type": "stream",
     "text": [
      "12/12 [==============================] - 1s 18ms/step\n",
      "7/7 [==============================] - 1s 21ms/step\n",
      "8/8 [==============================] - 1s 21ms/step\n",
      "15/15 [==============================] - 1s 18ms/step\n",
      "23/23 [==============================] - 1s 22ms/step\n",
      "11/11 [==============================] - 1s 18ms/step\n",
      "11/11 [==============================] - 1s 21ms/step\n",
      "13/13 [==============================] - 1s 17ms/step\n"
     ]
    },
    {
     "data": {
      "text/html": [
       "<div>\n",
       "<style scoped>\n",
       "    .dataframe tbody tr th:only-of-type {\n",
       "        vertical-align: middle;\n",
       "    }\n",
       "\n",
       "    .dataframe tbody tr th {\n",
       "        vertical-align: top;\n",
       "    }\n",
       "\n",
       "    .dataframe thead th {\n",
       "        text-align: right;\n",
       "    }\n",
       "</style>\n",
       "<table border=\"1\" class=\"dataframe\">\n",
       "  <thead>\n",
       "    <tr style=\"text-align: right;\">\n",
       "      <th></th>\n",
       "      <th>comment</th>\n",
       "      <th>tokenized</th>\n",
       "    </tr>\n",
       "  </thead>\n",
       "  <tbody>\n",
       "    <tr>\n",
       "      <th>3</th>\n",
       "      <td>มื้อกลางวันแบบครอบครัวรับตรุษจีน หรือเพื่อนฝูง...</td>\n",
       "      <td>มื้อ,กลางวัน,ครอบครัว,รับตรุษ,จีน,เพื่อนฝูง,สั...</td>\n",
       "    </tr>\n",
       "    <tr>\n",
       "      <th>4</th>\n",
       "      <td>ร้าน Jumbo Seafood มาออกบูทที่พารากอนบริเวณหน้...</td>\n",
       "      <td>Jumbo Seafood,ออกบูท,พารากอน,บริเวณ,หน้า,gourm...</td>\n",
       "    </tr>\n",
       "    <tr>\n",
       "      <th>5</th>\n",
       "      <td>ร้านอาหารเจ้าดังจากสิงคโปร์มาเปิดที่ไทยนานมากแ...</td>\n",
       "      <td>อาหาร,เจ้าดัง,สิงคโปร์,ไทย,ทาน,รอบ,โอกาส,ลอง,ส...</td>\n",
       "    </tr>\n",
       "    <tr>\n",
       "      <th>6</th>\n",
       "      <td>สิงคโปร์มั้ยละ!! มื้อนี้กับมิตรสหาย หลังจากวนๆ...</td>\n",
       "      <td>สิงคโปร์,!,!,มื้อ,มิตรสหาย,วน,จีน,ญี่ปุ่น,ไทย,...</td>\n",
       "    </tr>\n",
       "    <tr>\n",
       "      <th>7</th>\n",
       "      <td>อาหารซีฟู๊ดชื่อดังจากสิงคโปร์ มาเปิดสาขาที่สยา...</td>\n",
       "      <td>อาหาร,ซีฟู๊ด,ชื่อ,สิงคโปร์,สาขา,สยามพารากอน,เม...</td>\n",
       "    </tr>\n",
       "  </tbody>\n",
       "</table>\n",
       "</div>"
      ],
      "text/plain": [
       "                                             comment  \\\n",
       "3  มื้อกลางวันแบบครอบครัวรับตรุษจีน หรือเพื่อนฝูง...   \n",
       "4  ร้าน Jumbo Seafood มาออกบูทที่พารากอนบริเวณหน้...   \n",
       "5  ร้านอาหารเจ้าดังจากสิงคโปร์มาเปิดที่ไทยนานมากแ...   \n",
       "6  สิงคโปร์มั้ยละ!! มื้อนี้กับมิตรสหาย หลังจากวนๆ...   \n",
       "7  อาหารซีฟู๊ดชื่อดังจากสิงคโปร์ มาเปิดสาขาที่สยา...   \n",
       "\n",
       "                                           tokenized  \n",
       "3  มื้อ,กลางวัน,ครอบครัว,รับตรุษ,จีน,เพื่อนฝูง,สั...  \n",
       "4  Jumbo Seafood,ออกบูท,พารากอน,บริเวณ,หน้า,gourm...  \n",
       "5  อาหาร,เจ้าดัง,สิงคโปร์,ไทย,ทาน,รอบ,โอกาส,ลอง,ส...  \n",
       "6  สิงคโปร์,!,!,มื้อ,มิตรสหาย,วน,จีน,ญี่ปุ่น,ไทย,...  \n",
       "7  อาหาร,ซีฟู๊ด,ชื่อ,สิงคโปร์,สาขา,สยามพารากอน,เม...  "
      ]
     },
     "execution_count": 24,
     "metadata": {},
     "output_type": "execute_result"
    }
   ],
   "source": [
    "df['tokenized'] = df['comment'].apply(lambda x: tokenize_n_space(x))\n",
    "df.tail()"
   ]
  },
  {
   "cell_type": "code",
   "execution_count": 25,
   "metadata": {},
   "outputs": [
    {
     "name": "stdout",
     "output_type": "stream",
     "text": [
      "dict_keys(['กิน', 'คุณภาพ', 'ชิ้น', 'ซีฟู้ดร้าน', 'ซี่โครง', 'ดี', 'ดีงาม', 'บรรยากาศ', 'ปรุง', 'ปู', 'รสชาติ', 'ระดับ', 'ราคา', 'ล็อบสเตอร์', 'สด', 'สดหวาน', 'สดใหญ่', 'สะใจ', 'สำหรับ', 'หมู', 'อร่อย', 'อาหาร', 'เต็มปากเต็มคำ', 'เนื้อฉ่ำ', 'เยาว์', 'โหดร้าย', 'กลม', 'กล่อม', 'กับข้าว', 'กุ้ง', 'ตอน', 'ติดใจ', 'ทอดซีเรียล', 'ทั้งหวาน', 'ฟินสุด', 'สิงคโปร์', 'หา', 'หามา', 'อบซอสมอคค่า', 'เค็ม', 'เที่ยว', 'เมนู', 'ได้ใจ', 'ไทย', 'ไหว', '++', '2999', 'Hotpot', 'Jumbo', 'จิ้ม', 'ชุด', 'ซำ', 'ซี', 'ซีฟู้ด', 'ซุป', 'ติ่ม', 'ทะเล', 'น้ำ', 'ปลาเก๋า', 'ผัด', 'ฟู้ดโอเค', 'มาตรฐาน', 'ลิ้นจี่', 'สูตร', 'หวาน', 'หอยเชล', 'อราอย', 'เด็ดปู', 'เลือก', 'โซดา', '000', '10', '6', 'BANGKOK.', 'G', 'HOTEL ', 'KEMPINSKI', 'Pudding', 'SIAM', 'lobster', 'กลางวัน', 'กะหรี่', 'ก๋วยเตี๋ยว', 'ครอบครัว', 'คอย', 'จีน', 'ชั้น', 'ซาลาเปา', 'ญาติมิตร', 'ดำ', 'ดูแล', 'ตัว', 'ทอด', 'ทาน', 'ท่าน', 'บริการ', 'บาท', 'ปอเปี้ยะ', 'ผง', 'พนักงาน', 'พริกไทย', 'มะม่วง', 'มื้อ', 'รอ', 'รับตรุษ', 'ลูก', 'สังสรรค์', 'สั่ง', 'หน้า', 'ห้อง', 'เทศกาล', 'เนื้อ', 'เพื่อนฝูง', 'เมนูแนะนำ', 'แรม', 'โรง', '%', '25', 'Jumbo Seafood', 'gourmet', 'market', 'ขนม', 'ขาย', 'จัมโบ้', 'จีบ', 'ซัก', 'ซำพรีเมียม', 'ซื้อ', 'ดิบ', 'ทรัฟเฟิล', 'ทอง', 'ท้อป', 'น้ำมัน', 'บริเวณ', 'บ้าน', 'ปอเปี๊ยะ', 'ผสม', 'พารากอน', 'พื้นฐาน', 'ฟูก', 'ม้วน', 'รอบ', 'ลด', 'วัตถุ', 'สับล้วน', 'สี', 'หนา', 'หมี่', 'หรูหรา', 'หอม', 'อบ', 'อม', 'ออกบูท', 'ฮะเก๋า', 'ฮะเก๋า ', 'เตาติ๊ง', 'เส้น', 'เห็ดทรัฟเฟิล', 'แน่น', 'แบะ', 'แป้ง', 'แผ่น', 'แรง', 'โชค', 'โดน', 'ไข่', 'ไส้', 'กระดอง', 'จาน', 'ชอบ', 'ทุบ', 'นึ่ง', 'ปลา', 'พ่อแม่', 'ลอง', 'เค้า', 'เจ้าดัง', 'เมนูลอบสเตอร์', 'เหมาะ', 'เหมือน', 'แกะ', 'แข็ง', 'แนะนำ', 'แอบ', 'โอกาส', '!', '4', '999', 'service', 'vat', 'คน', 'คลาน', 'คุ้ม', 'จบ', 'จัมโบ้ซีฟู้ด', 'ญี่ปุ่น', 'นั่ง', 'มิตรสหาย', 'วน', 'สยามพารากอน', 'สรุป', 'สะดวกสบาย', 'สะอาดสะอ้าน', 'สัญชาติ', 'อิตาลี', 'อิ่ม', 'เซ็ท', 'แทบ', 'กลมกล่อม', 'กลิ่น', 'กาแฟ', 'ข้าว', 'ค่า', 'ชื่อ', 'ซอสพริก', 'ซีฟู๊ด', 'ปัด', 'มอคค่า', 'ราด', 'สาขา', 'สุดคง', 'อบซอส', 'อบซอสมอค', 'เกลือ', 'เข้มข้น', 'เลี่ยน', 'แปลก'])\n"
     ]
    }
   ],
   "source": [
    "doc = df['tokenized'].to_list()\n",
    "texts = [ [i for i in dc.split(',')] for dc in doc ]\n",
    "dictionary = gensim.corpora.Dictionary(texts)\n",
    "\n",
    "print(dictionary.token2id.keys())"
   ]
  },
  {
   "cell_type": "code",
   "execution_count": 26,
   "metadata": {},
   "outputs": [],
   "source": [
    "gensim_corpus = [ dictionary.doc2bow(tx, allow_update = True) for tx in texts ]\n",
    "word_frq = [ [ (dictionary[ides], frq) for ides, frq in coup ] for coup in gensim_corpus ]"
   ]
  },
  {
   "cell_type": "code",
   "execution_count": 27,
   "metadata": {},
   "outputs": [
    {
     "name": "stdout",
     "output_type": "stream",
     "text": [
      "Wall time: 997 µs\n"
     ]
    }
   ],
   "source": [
    "num_topic = 3\n",
    "chunksize = 4000 # size of the doc looked at every pass\n",
    "passes = 20 # number of passes through documents\n",
    "iterations = 50\n",
    "eval_number = 1 # more number, more compute time spending\n",
    "\n",
    "# Make index to word dictionary\n",
    "temp = dictionary[0]\n",
    "id2word = dictionary.id2token\n",
    "\n",
    "%time\n",
    "model = gensim.models.LdaModel( corpus=gensim_corpus, id2word=id2word, chunksize=chunksize, alpha='auto', eta='auto'\n",
    "                               , iterations=iterations, num_topics=num_topic, passes=passes, eval_every=eval_number )"
   ]
  },
  {
   "cell_type": "code",
   "execution_count": 29,
   "metadata": {},
   "outputs": [
    {
     "data": {
      "text/plain": [
       "[('ปู', 0.031876866),\n",
       " ('ผัด', 0.031876024),\n",
       " ('ดี', 0.026846886),\n",
       " ('รสชาติ', 0.01677837),\n",
       " ('เมนู', 0.016778022),\n",
       " ('สั่ง', 0.016777413),\n",
       " ('อาหาร', 0.016777286),\n",
       " ('กุ้ง', 0.011745705),\n",
       " ('น้ำ', 0.011744815),\n",
       " ('จัมโบ้', 0.0117445495)]"
      ]
     },
     "execution_count": 29,
     "metadata": {},
     "output_type": "execute_result"
    }
   ],
   "source": [
    "model.show_topic(0)"
   ]
  },
  {
   "cell_type": "code",
   "execution_count": 30,
   "metadata": {},
   "outputs": [
    {
     "data": {
      "text/plain": [
       "[('ดี', 0.02909899),\n",
       " ('กิน', 0.029094882),\n",
       " ('รสชาติ', 0.024500772),\n",
       " ('ราคา', 0.019909017),\n",
       " ('สด', 0.01990563),\n",
       " ('สิงคโปร์', 0.01990447),\n",
       " ('อาหาร', 0.015313765),\n",
       " ('อร่อย', 0.0153136505),\n",
       " ('ทาน', 0.0153123895),\n",
       " ('ไทย', 0.0153110605)]"
      ]
     },
     "execution_count": 30,
     "metadata": {},
     "output_type": "execute_result"
    }
   ],
   "source": [
    "model.show_topic(1)"
   ]
  },
  {
   "cell_type": "code",
   "execution_count": 31,
   "metadata": {},
   "outputs": [
    {
     "data": {
      "text/plain": [
       "[('กุ้ง', 0.035141654),\n",
       " ('ดี', 0.035141107),\n",
       " ('เมนู', 0.025558092),\n",
       " ('ไส้', 0.020764226),\n",
       " ('ขนม', 0.020764021),\n",
       " ('จีบ', 0.02076399),\n",
       " ('น้ำ', 0.015973924),\n",
       " ('ชิ้น', 0.015973255),\n",
       " ('ราคา', 0.015972987),\n",
       " ('สด', 0.011184511)]"
      ]
     },
     "execution_count": 31,
     "metadata": {},
     "output_type": "execute_result"
    }
   ],
   "source": [
    "model.show_topic(2)"
   ]
  },
  {
   "cell_type": "code",
   "execution_count": 32,
   "metadata": {},
   "outputs": [
    {
     "data": {
      "text/html": [
       "<div>\n",
       "<style scoped>\n",
       "    .dataframe tbody tr th:only-of-type {\n",
       "        vertical-align: middle;\n",
       "    }\n",
       "\n",
       "    .dataframe tbody tr th {\n",
       "        vertical-align: top;\n",
       "    }\n",
       "\n",
       "    .dataframe thead th {\n",
       "        text-align: right;\n",
       "    }\n",
       "</style>\n",
       "<table border=\"1\" class=\"dataframe\">\n",
       "  <thead>\n",
       "    <tr style=\"text-align: right;\">\n",
       "      <th></th>\n",
       "      <th>comment</th>\n",
       "      <th>tokenized</th>\n",
       "      <th>topics</th>\n",
       "      <th>score</th>\n",
       "    </tr>\n",
       "  </thead>\n",
       "  <tbody>\n",
       "    <tr>\n",
       "      <th>0</th>\n",
       "      <td>ซีฟู้ดร้านนี้ถือว่าสดมากมาแบบชิ้นโตๆ เต็มปากเต...</td>\n",
       "      <td>ซีฟู้ดร้าน,สด,ชิ้น,เต็มปากเต็มคำ,สดใหญ่,สะใจ,ร...</td>\n",
       "      <td>1</td>\n",
       "      <td>0.998529</td>\n",
       "    </tr>\n",
       "    <tr>\n",
       "      <th>1</th>\n",
       "      <td>ตั้งแต่ได้กินกุ้งทอดซีเรียลตอนไปเที่ยวสิงคโปร์...</td>\n",
       "      <td>กิน,กุ้ง,ทอดซีเรียล,ตอน,เที่ยว,สิงคโปร์,ติดใจ,...</td>\n",
       "      <td>1</td>\n",
       "      <td>0.998276</td>\n",
       "    </tr>\n",
       "    <tr>\n",
       "      <th>2</th>\n",
       "      <td>มาอีกครั้งเพราะมีเมนูใหม่ Hotpot ชุดนี้ 2999++...</td>\n",
       "      <td>เมนู,Hotpot,ชุด,2999,++,ซีฟู้ด,สด,ปลาเก๋า,หอยเ...</td>\n",
       "      <td>2</td>\n",
       "      <td>0.998055</td>\n",
       "    </tr>\n",
       "    <tr>\n",
       "      <th>3</th>\n",
       "      <td>มื้อกลางวันแบบครอบครัวรับตรุษจีน หรือเพื่อนฝูง...</td>\n",
       "      <td>มื้อ,กลางวัน,ครอบครัว,รับตรุษ,จีน,เพื่อนฝูง,สั...</td>\n",
       "      <td>0</td>\n",
       "      <td>0.998919</td>\n",
       "    </tr>\n",
       "    <tr>\n",
       "      <th>4</th>\n",
       "      <td>ร้าน Jumbo Seafood มาออกบูทที่พารากอนบริเวณหน้...</td>\n",
       "      <td>Jumbo Seafood,ออกบูท,พารากอน,บริเวณ,หน้า,gourm...</td>\n",
       "      <td>2</td>\n",
       "      <td>0.999304</td>\n",
       "    </tr>\n",
       "    <tr>\n",
       "      <th>5</th>\n",
       "      <td>ร้านอาหารเจ้าดังจากสิงคโปร์มาเปิดที่ไทยนานมากแ...</td>\n",
       "      <td>อาหาร,เจ้าดัง,สิงคโปร์,ไทย,ทาน,รอบ,โอกาส,ลอง,ส...</td>\n",
       "      <td>1</td>\n",
       "      <td>0.998610</td>\n",
       "    </tr>\n",
       "    <tr>\n",
       "      <th>6</th>\n",
       "      <td>สิงคโปร์มั้ยละ!! มื้อนี้กับมิตรสหาย หลังจากวนๆ...</td>\n",
       "      <td>สิงคโปร์,!,!,มื้อ,มิตรสหาย,วน,จีน,ญี่ปุ่น,ไทย,...</td>\n",
       "      <td>1</td>\n",
       "      <td>0.998836</td>\n",
       "    </tr>\n",
       "    <tr>\n",
       "      <th>7</th>\n",
       "      <td>อาหารซีฟู๊ดชื่อดังจากสิงคโปร์ มาเปิดสาขาที่สยา...</td>\n",
       "      <td>อาหาร,ซีฟู๊ด,ชื่อ,สิงคโปร์,สาขา,สยามพารากอน,เม...</td>\n",
       "      <td>0</td>\n",
       "      <td>0.998865</td>\n",
       "    </tr>\n",
       "  </tbody>\n",
       "</table>\n",
       "</div>"
      ],
      "text/plain": [
       "                                             comment  \\\n",
       "0  ซีฟู้ดร้านนี้ถือว่าสดมากมาแบบชิ้นโตๆ เต็มปากเต...   \n",
       "1  ตั้งแต่ได้กินกุ้งทอดซีเรียลตอนไปเที่ยวสิงคโปร์...   \n",
       "2  มาอีกครั้งเพราะมีเมนูใหม่ Hotpot ชุดนี้ 2999++...   \n",
       "3  มื้อกลางวันแบบครอบครัวรับตรุษจีน หรือเพื่อนฝูง...   \n",
       "4  ร้าน Jumbo Seafood มาออกบูทที่พารากอนบริเวณหน้...   \n",
       "5  ร้านอาหารเจ้าดังจากสิงคโปร์มาเปิดที่ไทยนานมากแ...   \n",
       "6  สิงคโปร์มั้ยละ!! มื้อนี้กับมิตรสหาย หลังจากวนๆ...   \n",
       "7  อาหารซีฟู๊ดชื่อดังจากสิงคโปร์ มาเปิดสาขาที่สยา...   \n",
       "\n",
       "                                           tokenized  topics     score  \n",
       "0  ซีฟู้ดร้าน,สด,ชิ้น,เต็มปากเต็มคำ,สดใหญ่,สะใจ,ร...       1  0.998529  \n",
       "1  กิน,กุ้ง,ทอดซีเรียล,ตอน,เที่ยว,สิงคโปร์,ติดใจ,...       1  0.998276  \n",
       "2  เมนู,Hotpot,ชุด,2999,++,ซีฟู้ด,สด,ปลาเก๋า,หอยเ...       2  0.998055  \n",
       "3  มื้อ,กลางวัน,ครอบครัว,รับตรุษ,จีน,เพื่อนฝูง,สั...       0  0.998919  \n",
       "4  Jumbo Seafood,ออกบูท,พารากอน,บริเวณ,หน้า,gourm...       2  0.999304  \n",
       "5  อาหาร,เจ้าดัง,สิงคโปร์,ไทย,ทาน,รอบ,โอกาส,ลอง,ส...       1  0.998610  \n",
       "6  สิงคโปร์,!,!,มื้อ,มิตรสหาย,วน,จีน,ญี่ปุ่น,ไทย,...       1  0.998836  \n",
       "7  อาหาร,ซีฟู๊ด,ชื่อ,สิงคโปร์,สาขา,สยามพารากอน,เม...       0  0.998865  "
      ]
     },
     "execution_count": 32,
     "metadata": {},
     "output_type": "execute_result"
    }
   ],
   "source": [
    "df['topics'] = df['tokenized'].apply(lambda x: model.get_document_topics(dictionary.doc2bow(x.split(',')))[0][0])\n",
    "df['score'] = df['tokenized'].apply(lambda x: model.get_document_topics(dictionary.doc2bow(x.split(',')))[0][1])\n",
    "df"
   ]
  },
  {
   "cell_type": "markdown",
   "metadata": {},
   "source": [
    "# Document Clustering"
   ]
  },
  {
   "cell_type": "code",
   "execution_count": 33,
   "metadata": {},
   "outputs": [
    {
     "data": {
      "text/html": [
       "<div>\n",
       "<style scoped>\n",
       "    .dataframe tbody tr th:only-of-type {\n",
       "        vertical-align: middle;\n",
       "    }\n",
       "\n",
       "    .dataframe tbody tr th {\n",
       "        vertical-align: top;\n",
       "    }\n",
       "\n",
       "    .dataframe thead th {\n",
       "        text-align: right;\n",
       "    }\n",
       "</style>\n",
       "<table border=\"1\" class=\"dataframe\">\n",
       "  <thead>\n",
       "    <tr style=\"text-align: right;\">\n",
       "      <th></th>\n",
       "      <th>comment</th>\n",
       "      <th>tokenized</th>\n",
       "      <th>topics</th>\n",
       "      <th>score</th>\n",
       "    </tr>\n",
       "  </thead>\n",
       "  <tbody>\n",
       "    <tr>\n",
       "      <th>3</th>\n",
       "      <td>มื้อกลางวันแบบครอบครัวรับตรุษจีน หรือเพื่อนฝูง...</td>\n",
       "      <td>มื้อ,กลางวัน,ครอบครัว,รับตรุษ,จีน,เพื่อนฝูง,สั...</td>\n",
       "      <td>0</td>\n",
       "      <td>0.998919</td>\n",
       "    </tr>\n",
       "    <tr>\n",
       "      <th>4</th>\n",
       "      <td>ร้าน Jumbo Seafood มาออกบูทที่พารากอนบริเวณหน้...</td>\n",
       "      <td>Jumbo Seafood,ออกบูท,พารากอน,บริเวณ,หน้า,gourm...</td>\n",
       "      <td>2</td>\n",
       "      <td>0.999304</td>\n",
       "    </tr>\n",
       "    <tr>\n",
       "      <th>5</th>\n",
       "      <td>ร้านอาหารเจ้าดังจากสิงคโปร์มาเปิดที่ไทยนานมากแ...</td>\n",
       "      <td>อาหาร,เจ้าดัง,สิงคโปร์,ไทย,ทาน,รอบ,โอกาส,ลอง,ส...</td>\n",
       "      <td>1</td>\n",
       "      <td>0.998610</td>\n",
       "    </tr>\n",
       "    <tr>\n",
       "      <th>6</th>\n",
       "      <td>สิงคโปร์มั้ยละ!! มื้อนี้กับมิตรสหาย หลังจากวนๆ...</td>\n",
       "      <td>สิงคโปร์,!,!,มื้อ,มิตรสหาย,วน,จีน,ญี่ปุ่น,ไทย,...</td>\n",
       "      <td>1</td>\n",
       "      <td>0.998836</td>\n",
       "    </tr>\n",
       "    <tr>\n",
       "      <th>7</th>\n",
       "      <td>อาหารซีฟู๊ดชื่อดังจากสิงคโปร์ มาเปิดสาขาที่สยา...</td>\n",
       "      <td>อาหาร,ซีฟู๊ด,ชื่อ,สิงคโปร์,สาขา,สยามพารากอน,เม...</td>\n",
       "      <td>0</td>\n",
       "      <td>0.998865</td>\n",
       "    </tr>\n",
       "  </tbody>\n",
       "</table>\n",
       "</div>"
      ],
      "text/plain": [
       "                                             comment  \\\n",
       "3  มื้อกลางวันแบบครอบครัวรับตรุษจีน หรือเพื่อนฝูง...   \n",
       "4  ร้าน Jumbo Seafood มาออกบูทที่พารากอนบริเวณหน้...   \n",
       "5  ร้านอาหารเจ้าดังจากสิงคโปร์มาเปิดที่ไทยนานมากแ...   \n",
       "6  สิงคโปร์มั้ยละ!! มื้อนี้กับมิตรสหาย หลังจากวนๆ...   \n",
       "7  อาหารซีฟู๊ดชื่อดังจากสิงคโปร์ มาเปิดสาขาที่สยา...   \n",
       "\n",
       "                                           tokenized  topics     score  \n",
       "3  มื้อ,กลางวัน,ครอบครัว,รับตรุษ,จีน,เพื่อนฝูง,สั...       0  0.998919  \n",
       "4  Jumbo Seafood,ออกบูท,พารากอน,บริเวณ,หน้า,gourm...       2  0.999304  \n",
       "5  อาหาร,เจ้าดัง,สิงคโปร์,ไทย,ทาน,รอบ,โอกาส,ลอง,ส...       1  0.998610  \n",
       "6  สิงคโปร์,!,!,มื้อ,มิตรสหาย,วน,จีน,ญี่ปุ่น,ไทย,...       1  0.998836  \n",
       "7  อาหาร,ซีฟู๊ด,ชื่อ,สิงคโปร์,สาขา,สยามพารากอน,เม...       0  0.998865  "
      ]
     },
     "execution_count": 33,
     "metadata": {},
     "output_type": "execute_result"
    }
   ],
   "source": [
    "module_url = 'https://tfhub.dev/google/universal-sentence-encoder-multilingual/3' #'https://tfhub.dev/google/universal-sentence-encoder-multilingual/3' for a large model\n",
    "model = hub.load(module_url)\n",
    "\n",
    "df.tail()"
   ]
  },
  {
   "cell_type": "code",
   "execution_count": 34,
   "metadata": {},
   "outputs": [
    {
     "data": {
      "text/plain": [
       "array([[ 0.07284356,  0.01509887,  0.02513838, ..., -0.07480404,\n",
       "         0.04435669, -0.00936778],\n",
       "       [ 0.08056069, -0.02634263,  0.01355199, ..., -0.04186423,\n",
       "         0.02949463, -0.05701471],\n",
       "       [ 0.07288518, -0.02204469, -0.0316878 , ..., -0.07662316,\n",
       "         0.00504884, -0.07055812],\n",
       "       ...,\n",
       "       [ 0.07568485,  0.01615374, -0.06178917, ..., -0.07437849,\n",
       "         0.00385982, -0.03378594],\n",
       "       [ 0.0058505 ,  0.02108119,  0.00537482, ..., -0.05387208,\n",
       "         0.0695296 ,  0.01035861],\n",
       "       [ 0.06145573,  0.01721901,  0.00902034, ..., -0.05326745,\n",
       "         0.03777821, -0.06852783]], dtype=float32)"
      ]
     },
     "execution_count": 34,
     "metadata": {},
     "output_type": "execute_result"
    }
   ],
   "source": [
    "embed_comments_array = model(df['comment'].values).numpy() \n",
    "embed_comments_array"
   ]
  },
  {
   "cell_type": "code",
   "execution_count": 37,
   "metadata": {},
   "outputs": [
    {
     "name": "stderr",
     "output_type": "stream",
     "text": [
      "d:\\Anaconda\\lib\\site-packages\\umap\\umap_.py:2344: UserWarning: n_neighbors is larger than the dataset size; truncating to X.shape[0] - 1\n",
      "  warn(\n"
     ]
    }
   ],
   "source": [
    "reducer = umap.UMAP(random_state=42,n_components=5)\n",
    "umap_embed_comments_array = reducer.fit_transform(embed_comments_array)"
   ]
  },
  {
   "cell_type": "code",
   "execution_count": 39,
   "metadata": {},
   "outputs": [
    {
     "name": "stderr",
     "output_type": "stream",
     "text": [
      "d:\\Anaconda\\lib\\site-packages\\sklearn\\cluster\\_kmeans.py:1334: UserWarning: KMeans is known to have a memory leak on Windows with MKL, when there are less chunks than available threads. You can avoid it by setting the environment variable OMP_NUM_THREADS=1.\n",
      "  warnings.warn(\n"
     ]
    },
    {
     "name": "stderr",
     "output_type": "stream",
     "text": [
      "d:\\Anaconda\\lib\\site-packages\\sklearn\\cluster\\_kmeans.py:1334: UserWarning: KMeans is known to have a memory leak on Windows with MKL, when there are less chunks than available threads. You can avoid it by setting the environment variable OMP_NUM_THREADS=1.\n",
      "  warnings.warn(\n",
      "d:\\Anaconda\\lib\\site-packages\\sklearn\\cluster\\_kmeans.py:1334: UserWarning: KMeans is known to have a memory leak on Windows with MKL, when there are less chunks than available threads. You can avoid it by setting the environment variable OMP_NUM_THREADS=1.\n",
      "  warnings.warn(\n",
      "d:\\Anaconda\\lib\\site-packages\\sklearn\\cluster\\_kmeans.py:1334: UserWarning: KMeans is known to have a memory leak on Windows with MKL, when there are less chunks than available threads. You can avoid it by setting the environment variable OMP_NUM_THREADS=1.\n",
      "  warnings.warn(\n",
      "d:\\Anaconda\\lib\\site-packages\\sklearn\\cluster\\_kmeans.py:1334: UserWarning: KMeans is known to have a memory leak on Windows with MKL, when there are less chunks than available threads. You can avoid it by setting the environment variable OMP_NUM_THREADS=1.\n",
      "  warnings.warn(\n",
      "d:\\Anaconda\\lib\\site-packages\\sklearn\\cluster\\_kmeans.py:1334: UserWarning: KMeans is known to have a memory leak on Windows with MKL, when there are less chunks than available threads. You can avoid it by setting the environment variable OMP_NUM_THREADS=1.\n",
      "  warnings.warn(\n",
      "d:\\Anaconda\\lib\\site-packages\\sklearn\\cluster\\_kmeans.py:1334: UserWarning: KMeans is known to have a memory leak on Windows with MKL, when there are less chunks than available threads. You can avoid it by setting the environment variable OMP_NUM_THREADS=1.\n",
      "  warnings.warn(\n"
     ]
    },
    {
     "data": {
      "text/plain": [
       "Text(0, 0.5, 'WCSS')"
      ]
     },
     "execution_count": 39,
     "metadata": {},
     "output_type": "execute_result"
    },
    {
     "data": {
      "image/png": "[encoded data removed]",
      "text/plain": [
       "<Figure size 432x288 with 1 Axes>"
      ]
     },
     "metadata": {
      "needs_background": "light"
     },
     "output_type": "display_data"
    }
   ],
   "source": [
    "#run kmeans with various number of k. evaluate no. of k based on the elbow plot\n",
    "\n",
    "\n",
    "wcss=[]\n",
    "max_k = 8\n",
    "\n",
    "for i in range(1, max_k):\n",
    "    kmeans = KMeans(n_clusters=i, n_init=10)\n",
    "    kmeans.fit(umap_embed_comments_array)\n",
    "    wcss_iter = kmeans.inertia_\n",
    "    wcss.append(wcss_iter)\n",
    "    number_clusters = range(1, max_k)\n",
    "\n",
    "plt.plot(number_clusters,wcss)\n",
    "plt.title('The Elbow title')\n",
    "plt.xlabel('Number of clusters')\n",
    "plt.ylabel('WCSS')"
   ]
  },
  {
   "cell_type": "code",
   "execution_count": 40,
   "metadata": {},
   "outputs": [
    {
     "name": "stderr",
     "output_type": "stream",
     "text": [
      "d:\\Anaconda\\lib\\site-packages\\sklearn\\cluster\\_kmeans.py:1334: UserWarning: KMeans is known to have a memory leak on Windows with MKL, when there are less chunks than available threads. You can avoid it by setting the environment variable OMP_NUM_THREADS=1.\n",
      "  warnings.warn(\n"
     ]
    }
   ],
   "source": [
    "#run kmeans with no. of clusters you see fit the most\n",
    "k = 3\n",
    "kmeans = KMeans(n_clusters = k, n_init=10)\n",
    "kmeans.fit(umap_embed_comments_array)\n",
    "df['KMeans ID'] = kmeans.labels_"
   ]
  },
  {
   "cell_type": "code",
   "execution_count": 41,
   "metadata": {},
   "outputs": [],
   "source": [
    "#merge all reviews of each cluster into one big sentence\n",
    "df_kmeans = pd.DataFrame(columns=[\"KMeans ID\", \"texts\"])\n",
    "\n",
    "for i in range(0, k):\n",
    "    row = []\n",
    "    row.append(i)\n",
    "    row.append(df['comment'][df['KMeans ID'] == i].to_string())\n",
    "    df_kmeans.loc[len(df_kmeans)] = row"
   ]
  },
  {
   "cell_type": "code",
   "execution_count": 42,
   "metadata": {},
   "outputs": [
    {
     "data": {
      "text/html": [
       "<div>\n",
       "<style scoped>\n",
       "    .dataframe tbody tr th:only-of-type {\n",
       "        vertical-align: middle;\n",
       "    }\n",
       "\n",
       "    .dataframe tbody tr th {\n",
       "        vertical-align: top;\n",
       "    }\n",
       "\n",
       "    .dataframe thead th {\n",
       "        text-align: right;\n",
       "    }\n",
       "</style>\n",
       "<table border=\"1\" class=\"dataframe\">\n",
       "  <thead>\n",
       "    <tr style=\"text-align: right;\">\n",
       "      <th></th>\n",
       "      <th>KMeans ID</th>\n",
       "      <th>texts</th>\n",
       "    </tr>\n",
       "  </thead>\n",
       "  <tbody>\n",
       "    <tr>\n",
       "      <th>0</th>\n",
       "      <td>0</td>\n",
       "      <td>0    ซีฟู้ดร้านนี้ถือว่าสดมากมาแบบชิ้นโตๆ เต็ม...</td>\n",
       "    </tr>\n",
       "    <tr>\n",
       "      <th>1</th>\n",
       "      <td>1</td>\n",
       "      <td>2    มาอีกครั้งเพราะมีเมนูใหม่ Hotpot ชุดนี้ 2...</td>\n",
       "    </tr>\n",
       "    <tr>\n",
       "      <th>2</th>\n",
       "      <td>2</td>\n",
       "      <td>3    มื้อกลางวันแบบครอบครัวรับตรุษจีน หรือเพื่...</td>\n",
       "    </tr>\n",
       "  </tbody>\n",
       "</table>\n",
       "</div>"
      ],
      "text/plain": [
       "   KMeans ID                                              texts\n",
       "0          0  0    ซีฟู้ดร้านนี้ถือว่าสดมากมาแบบชิ้นโตๆ เต็ม...\n",
       "1          1  2    มาอีกครั้งเพราะมีเมนูใหม่ Hotpot ชุดนี้ 2...\n",
       "2          2  3    มื้อกลางวันแบบครอบครัวรับตรุษจีน หรือเพื่..."
      ]
     },
     "execution_count": 42,
     "metadata": {},
     "output_type": "execute_result"
    }
   ],
   "source": [
    "df_kmeans"
   ]
  },
  {
   "cell_type": "code",
   "execution_count": 43,
   "metadata": {},
   "outputs": [],
   "source": [
    "#create regex compiler for removal of a character you don't want\n",
    "special_characters = \"/[!@#$%^&*']/g\"\n",
    "specialchar_pattern = re.compile(special_characters)"
   ]
  },
  {
   "cell_type": "code",
   "execution_count": 44,
   "metadata": {},
   "outputs": [],
   "source": [
    "#create regex compiler for removal of any emoji\n",
    "emoji_pattern = re.compile(\"[\"\n",
    "u\"\\U0001F600-\\U0001F64F\" # emoticons\n",
    "u\"\\U0001F300-\\U0001F5FF\" # symbols & pictographs\n",
    "u\"\\U0001F680-\\U0001F6FF\" # transport & map symbols\n",
    "u\"\\U0001F1E0-\\U0001F1FF\" # flags (iOS)\n",
    "\"]+\", flags=re.UNICODE)\n",
    "\n",
    "#create regex compiler for removal of digit\n",
    "number_pattern = re.compile(\"[0-9]\")\n",
    "#create regex compiler for removal of white space\n",
    "space_pattern = re.compile(\"\\s+\")\n",
    "#create regex compiler for removal of .\n",
    "dot_pattern = re.compile(r\"\\.+\")\n",
    "#create regex compiler for removal of \\\n",
    "backslash_pattern = re.compile(r\"\\\\+\")"
   ]
  },
  {
   "cell_type": "code",
   "execution_count": 46,
   "metadata": {},
   "outputs": [],
   "source": [
    "#define a function to tokenize a sentence into words - you can define words you want to remove as well as new words for tokenization\n",
    "stopwords = list(pythainlp.corpus.thai_stopwords())\n",
    "removed_words = ['',' ','    ','\\n', '(', ')', '?', '+', '--', '//', 'ร้าน']\n",
    "screening_words = stopwords + removed_words\n",
    "\n",
    "#new_words = {''}\n",
    "\n",
    "# words = new_words.union(thai_words())\n",
    "# custom_dictionary_trie = Trie(words)"
   ]
  },
  {
   "cell_type": "code",
   "execution_count": 47,
   "metadata": {},
   "outputs": [],
   "source": [
    "#define a function to tokenize a sentence into words - you can define words you want to remove as well as new words for tokenization\n",
    "def tokenize_to_list(sentence):\n",
    "    merged = []\n",
    "    words = pythainlp.word_tokenize(str(sentence), engine='deepcut')\n",
    "\n",
    "    for word in words:\n",
    "        if word not in screening_words:\n",
    "            merged.append(word)\n",
    "    return merged"
   ]
  },
  {
   "cell_type": "code",
   "execution_count": 48,
   "metadata": {},
   "outputs": [
    {
     "name": "stdout",
     "output_type": "stream",
     "text": [
      "5/5 [==============================] - 1s 15ms/step\n",
      "4/4 [==============================] - 1s 10ms/step\n",
      "3/3 [==============================] - 0s 13ms/step\n"
     ]
    }
   ],
   "source": [
    "df_kmeans['texts'] = df_kmeans['texts'].apply(lambda x: emoji_pattern.sub(r'', x))\n",
    "df_kmeans['texts'] = df_kmeans['texts'].apply(lambda x: specialchar_pattern.sub(r'', x))\n",
    "df_kmeans['texts'] = df_kmeans['texts'].apply(lambda x: number_pattern.sub(r'', x))\n",
    "df_kmeans['texts'] = df_kmeans['texts'].apply(lambda x: space_pattern.sub(r'', x))\n",
    "df_kmeans['texts'] = df_kmeans['texts'].apply(lambda x: dot_pattern.sub(r'', x))\n",
    "df_kmeans['texts'] = df_kmeans['texts'].apply(lambda x: backslash_pattern.sub(r'', x))\n",
    "df_kmeans['texts_tokenized'] = df_kmeans['texts'].apply(lambda x: tokenize_to_list(x))\n",
    "df_kmeans['texts_count'] = df_kmeans['texts_tokenized'].apply(lambda x:collections.Counter(x).most_common())"
   ]
  },
  {
   "cell_type": "code",
   "execution_count": 49,
   "metadata": {},
   "outputs": [
    {
     "data": {
      "text/html": [
       "<div>\n",
       "<style scoped>\n",
       "    .dataframe tbody tr th:only-of-type {\n",
       "        vertical-align: middle;\n",
       "    }\n",
       "\n",
       "    .dataframe tbody tr th {\n",
       "        vertical-align: top;\n",
       "    }\n",
       "\n",
       "    .dataframe thead th {\n",
       "        text-align: right;\n",
       "    }\n",
       "</style>\n",
       "<table border=\"1\" class=\"dataframe\">\n",
       "  <thead>\n",
       "    <tr style=\"text-align: right;\">\n",
       "      <th></th>\n",
       "      <th>KMeans ID</th>\n",
       "      <th>texts</th>\n",
       "      <th>texts_tokenized</th>\n",
       "      <th>texts_count</th>\n",
       "    </tr>\n",
       "  </thead>\n",
       "  <tbody>\n",
       "    <tr>\n",
       "      <th>0</th>\n",
       "      <td>0</td>\n",
       "      <td>ซีฟู้ดร้านนี้ถือว่าสดมากมาแบบชิ้นโตๆเต็มปากเตต...</td>\n",
       "      <td>[ซีฟู้ดร้าน, สด, ชิ้น, เต็ม, ปาก, เต, กิน, กุ้...</td>\n",
       "      <td>[(สิงคโปร์, 2), (ซีฟู้ดร้าน, 1), (สด, 1), (ชิ้...</td>\n",
       "    </tr>\n",
       "    <tr>\n",
       "      <th>1</th>\n",
       "      <td>1</td>\n",
       "      <td>มาอีกครั้งเพราะมีเมนูใหม่Hotpotชุดนี้++ร้านJum...</td>\n",
       "      <td>[เมนู, Hotpot, ชุด, JumboSeafood, บูท, พารากอน...</td>\n",
       "      <td>[(เมนู, 1), (Hotpot, 1), (ชุด, 1), (JumboSeafo...</td>\n",
       "    </tr>\n",
       "    <tr>\n",
       "      <th>2</th>\n",
       "      <td>2</td>\n",
       "      <td>มื้อกลางวันแบบครอบครัวรับตรุษจีนหรือเพื่อนฝูงส...</td>\n",
       "      <td>[มื้อ, กลาง, ครอบครัว, ตรุษ, จีน, เพื่อนฝูง, ส...</td>\n",
       "      <td>[(มื้อ, 2), (!, 2), (กลาง, 1), (ครอบครัว, 1), ...</td>\n",
       "    </tr>\n",
       "  </tbody>\n",
       "</table>\n",
       "</div>"
      ],
      "text/plain": [
       "   KMeans ID                                              texts  \\\n",
       "0          0  ซีฟู้ดร้านนี้ถือว่าสดมากมาแบบชิ้นโตๆเต็มปากเตต...   \n",
       "1          1  มาอีกครั้งเพราะมีเมนูใหม่Hotpotชุดนี้++ร้านJum...   \n",
       "2          2  มื้อกลางวันแบบครอบครัวรับตรุษจีนหรือเพื่อนฝูงส...   \n",
       "\n",
       "                                     texts_tokenized  \\\n",
       "0  [ซีฟู้ดร้าน, สด, ชิ้น, เต็ม, ปาก, เต, กิน, กุ้...   \n",
       "1  [เมนู, Hotpot, ชุด, JumboSeafood, บูท, พารากอน...   \n",
       "2  [มื้อ, กลาง, ครอบครัว, ตรุษ, จีน, เพื่อนฝูง, ส...   \n",
       "\n",
       "                                         texts_count  \n",
       "0  [(สิงคโปร์, 2), (ซีฟู้ดร้าน, 1), (สด, 1), (ชิ้...  \n",
       "1  [(เมนู, 1), (Hotpot, 1), (ชุด, 1), (JumboSeafo...  \n",
       "2  [(มื้อ, 2), (!, 2), (กลาง, 1), (ครอบครัว, 1), ...  "
      ]
     },
     "execution_count": 49,
     "metadata": {},
     "output_type": "execute_result"
    }
   ],
   "source": [
    "df_kmeans"
   ]
  },
  {
   "cell_type": "code",
   "execution_count": 50,
   "metadata": {},
   "outputs": [
    {
     "name": "stdout",
     "output_type": "stream",
     "text": [
      "Cluster ID : 0\n",
      "\n",
      "Most common words include : [('สิงคโปร์', 2), ('ซีฟู้ดร้าน', 1), ('สด', 1), ('ชิ้น', 1), ('เต็ม', 1), ('ปาก', 1), ('เต', 1), ('กิน', 1), ('กุ้ง', 1), ('ทอดซีเรียล', 1)]\n",
      "\n",
      "Cluster ID : 1\n",
      "\n",
      "Most common words include : [('เมนู', 1), ('Hotpot', 1), ('ชุด', 1), ('JumboSeafood', 1), ('บูท', 1), ('พารากอน', 1), ('บริเวณ', 1), ('หน้', 1), ('อาหาร', 1), ('ซีฟู๊ด', 1)]\n",
      "\n",
      "Cluster ID : 2\n",
      "\n",
      "Most common words include : [('มื้อ', 2), ('!', 2), ('กลาง', 1), ('ครอบครัว', 1), ('ตรุษ', 1), ('จีน', 1), ('เพื่อนฝูง', 1), ('สิงคโปร์', 1), ('มิตร', 1), ('สหาย', 1)]\n",
      "\n"
     ]
    }
   ],
   "source": [
    "# show top key word of each cluster\n",
    "\n",
    "top_n_words = 10\n",
    "for i in range(0, len(df_kmeans)):\n",
    "    print(f\"Cluster ID : {i}\\n\")\n",
    "    print(f\"Most common words include : {list(df_kmeans['texts_count'][i])[:top_n_words]}\\n\")"
   ]
  },
  {
   "cell_type": "code",
   "execution_count": 52,
   "metadata": {},
   "outputs": [],
   "source": [
    "#clustering using agglomorative clustering\n",
    "knn_graph = kneighbors_graph(embed_comments_array, 5, include_self=False)\n",
    "model = AgglomerativeClustering(\n",
    "linkage=\"average\", connectivity=knn_graph, n_clusters=8, affinity=\"cosine\")\n",
    "model.fit(embed_comments_array)\n",
    "df['Agglomerative ID'] = model.labels_"
   ]
  },
  {
   "cell_type": "code",
   "execution_count": 53,
   "metadata": {},
   "outputs": [],
   "source": [
    "#merge all reviews of each cluster into one big sentence\n",
    "df_Agglomerative = pd.DataFrame(columns=[\"Agglomerative ID\", \"texts\"])\n",
    "for i in range(0, k):\n",
    "    row = []\n",
    "    row.append(i)\n",
    "    row.append(str(df['comment'][df['Agglomerative ID'] == i].tolist()))\n",
    "    df_Agglomerative.loc[len(df_Agglomerative)] = row"
   ]
  },
  {
   "cell_type": "code",
   "execution_count": 54,
   "metadata": {},
   "outputs": [
    {
     "name": "stdout",
     "output_type": "stream",
     "text": [
      "12/12 [==============================] - 1s 17ms/step\n",
      "10/10 [==============================] - 1s 30ms/step\n",
      "10/10 [==============================] - 3s 33ms/step\n"
     ]
    }
   ],
   "source": [
    "\n",
    "#clean and tokenize sentences. count the occurences of each word\n",
    "df_Agglomerative['texts'] = df_Agglomerative['texts'].apply(lambda x: emoji_pattern.sub(r'', x))\n",
    "df_Agglomerative['texts'] = df_Agglomerative['texts'].apply(lambda x: specialchar_pattern.sub(r'', x))\n",
    "df_Agglomerative['texts'] = df_Agglomerative['texts'].apply(lambda x: number_pattern.sub(r'', x))\n",
    "df_Agglomerative['texts'] = df_Agglomerative['texts'].apply(lambda x: space_pattern.sub(r'', x))\n",
    "df_Agglomerative['texts'] = df_Agglomerative['texts'].apply(lambda x: dot_pattern.sub(r'', x))\n",
    "df_Agglomerative['texts'] = df_Agglomerative['texts'].apply(lambda x: backslash_pattern.sub(r'', x))\n",
    "df_Agglomerative['texts_tokenized'] = df_Agglomerative['texts'].apply(lambda x: tokenize_to_list(x))\n",
    "df_Agglomerative['texts_count'] = df_Agglomerative['texts_tokenized'].apply(lambda x:\n",
    "collections.Counter(x).most_common())"
   ]
  },
  {
   "cell_type": "code",
   "execution_count": 55,
   "metadata": {},
   "outputs": [
    {
     "name": "stdout",
     "output_type": "stream",
     "text": [
      "Cluster ID : 0\n",
      "\n",
      "Most common words include :[('ปู', 5), ('เมนู', 3), ('ผัด', 3), ('ดี', 3), ('รสชาติ', 3), (\"'\", 2), ('จัมโบ้', 2), ('หมู', 2), ('[', 1), ('อาหาร', 1)]\n",
      "\n",
      "Cluster ID : 1\n",
      "\n",
      "Most common words include :[(\"'\", 2), ('สิงคโปร์', 2), ('!', 2), ('ดี', 2), ('[', 1), ('มื้อ', 1), ('มิตร', 1), ('สหาย', 1), ('วน', 1), ('จีน', 1)]\n",
      "\n",
      "Cluster ID : 2\n",
      "\n",
      "Most common words include :[(\"'\", 2), ('ทาน', 2), ('สด', 2), ('เมนู', 2), ('ปลา', 2), ('ทอด', 2), ('[', 1), ('อาหาร', 1), ('เจ้าดัง', 1), ('สิงคโปร์', 1)]\n",
      "\n"
     ]
    }
   ],
   "source": [
    "#show top keywords of each cluster\n",
    "top_N_words = 10\n",
    "for i in range(0, len(df_Agglomerative)):\n",
    "    print(f\"Cluster ID : {i}\\n\")\n",
    "    print(f\"Most common words include :{list(df_Agglomerative['texts_count'][i])[:top_N_words]}\\n\")"
   ]
  },
  {
   "cell_type": "code",
   "execution_count": null,
   "metadata": {},
   "outputs": [],
   "source": []
  }
 ],
 "metadata": {
  "kernelspec": {
   "display_name": "base",
   "language": "python",
   "name": "python3"
  },
  "language_info": {
   "codemirror_mode": {
    "name": "ipython",
    "version": 3
   },
   "file_extension": ".py",
   "mimetype": "text/x-python",
   "name": "python",
   "nbconvert_exporter": "python",
   "pygments_lexer": "ipython3",
   "version": "3.9.7"
  },
  "orig_nbformat": 4
 },
 "nbformat": 4,
 "nbformat_minor": 2
}
